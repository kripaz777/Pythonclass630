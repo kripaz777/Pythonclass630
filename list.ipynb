{
 "cells": [
  {
   "cell_type": "code",
   "execution_count": 1,
   "metadata": {},
   "outputs": [],
   "source": [
    "# # Python collection\n",
    "# list\n",
    "# tuple\n",
    "# dictionary\n",
    "# set"
   ]
  },
  {
   "cell_type": "code",
   "execution_count": 2,
   "metadata": {},
   "outputs": [],
   "source": [
    "# # list\n",
    "# -Indexed\n",
    "# -Ordered\n",
    "# -Multiple data\n",
    "# -Mutable"
   ]
  },
  {
   "cell_type": "code",
   "execution_count": 3,
   "metadata": {},
   "outputs": [
    {
     "name": "stdout",
     "output_type": "stream",
     "text": [
      "[1, 2, 3, 4, 5]\n",
      "['Apple', 'Ball', 'Cat', 'Dog']\n",
      "<class 'list'> <class 'list'>\n"
     ]
    }
   ],
   "source": [
    "a = [1,2,3,4,5]\n",
    "b = [\"Apple\",\"Ball\",\"Cat\",\"Dog\"]\n",
    "print(a)\n",
    "print(b)\n",
    "print(type(a),type(b))"
   ]
  },
  {
   "cell_type": "code",
   "execution_count": 8,
   "metadata": {},
   "outputs": [
    {
     "name": "stdout",
     "output_type": "stream",
     "text": [
      "Apple\n",
      "['Apple', 'Ball', 'Cat']\n",
      "[1, 2, 3, 4, 5]\n"
     ]
    }
   ],
   "source": [
    "print(b[0])\n",
    "print(b[0:3])\n",
    "print(a[0::1])"
   ]
  },
  {
   "cell_type": "code",
   "execution_count": 10,
   "metadata": {},
   "outputs": [
    {
     "data": {
      "text/plain": [
       "'A'"
      ]
     },
     "execution_count": 10,
     "metadata": {},
     "output_type": "execute_result"
    }
   ],
   "source": [
    "b = [\"Apple\",\"Ball\",\"Cat\",\"Dog\"]\n",
    "b[0][0]"
   ]
  },
  {
   "cell_type": "code",
   "execution_count": 12,
   "metadata": {},
   "outputs": [
    {
     "name": "stdout",
     "output_type": "stream",
     "text": [
      "[1, 2, 3, 4, 5, 6, 7, 8, 9]\n"
     ]
    }
   ],
   "source": [
    "a = [1,2,3,4,5]\n",
    "b = [6,7,8,9]\n",
    "c = a+b\n",
    "print(c)"
   ]
  },
  {
   "cell_type": "code",
   "execution_count": 13,
   "metadata": {},
   "outputs": [
    {
     "name": "stdout",
     "output_type": "stream",
     "text": [
      "[1, 2, 3, 4, 5, 1, 2, 3, 4, 5, 1, 2, 3, 4, 5]\n"
     ]
    }
   ],
   "source": [
    "a = [1,2,3,4,5]\n",
    "print(a*3)"
   ]
  },
  {
   "cell_type": "code",
   "execution_count": 15,
   "metadata": {},
   "outputs": [
    {
     "data": {
      "text/plain": [
       "['Ant', 'Ball', 'Cat', 'Dog']"
      ]
     },
     "execution_count": 15,
     "metadata": {},
     "output_type": "execute_result"
    }
   ],
   "source": [
    "b = [\"Apple\",\"Ball\",\"Cat\",\"Dog\"]\n",
    "b[0] = 'Ant'\n",
    "b"
   ]
  },
  {
   "cell_type": "code",
   "execution_count": 16,
   "metadata": {},
   "outputs": [
    {
     "name": "stdout",
     "output_type": "stream",
     "text": [
      "Apple\n",
      "Ball\n",
      "Cat\n",
      "Dog\n"
     ]
    }
   ],
   "source": [
    "b = [\"Apple\",\"Ball\",\"Cat\",\"Dog\"]\n",
    "for i in b:\n",
    "    print(i)"
   ]
  },
  {
   "cell_type": "code",
   "execution_count": 17,
   "metadata": {},
   "outputs": [
    {
     "data": {
      "text/plain": [
       "4"
      ]
     },
     "execution_count": 17,
     "metadata": {},
     "output_type": "execute_result"
    }
   ],
   "source": [
    "l = len(b)\n",
    "l"
   ]
  },
  {
   "cell_type": "code",
   "execution_count": 19,
   "metadata": {},
   "outputs": [
    {
     "data": {
      "text/plain": [
       "['Apple', 'Ball']"
      ]
     },
     "execution_count": 19,
     "metadata": {},
     "output_type": "execute_result"
    }
   ],
   "source": [
    "# append() insert() extend()\n",
    "a = list()\n",
    "a.append(\"Apple\")\n",
    "a.append(\"Ball\")\n",
    "a"
   ]
  },
  {
   "cell_type": "code",
   "execution_count": 20,
   "metadata": {},
   "outputs": [
    {
     "name": "stdout",
     "output_type": "stream",
     "text": [
      "['Apple', 'Bat', 'Ball', 'Cat', 'Dog', 'Fish']\n"
     ]
    }
   ],
   "source": [
    "b = [\"Apple\",\"Ball\",\"Cat\",\"Dog\",\"Fish\"]\n",
    "b.insert(1,\"Bat\")\n",
    "print(b)"
   ]
  },
  {
   "cell_type": "code",
   "execution_count": 21,
   "metadata": {},
   "outputs": [
    {
     "name": "stdout",
     "output_type": "stream",
     "text": [
      "['Apple', 'Bat', 'Ball', 'Cat', 'Dog', 'Fish', 1, 2, 3, 4, 5, 6]\n"
     ]
    }
   ],
   "source": [
    "# extend()\n",
    "a = ['Apple', 'Bat', 'Ball', 'Cat', 'Dog', 'Fish']\n",
    "b = [1,2,3,4,5,6]\n",
    "a.extend(b)\n",
    "print(a)"
   ]
  },
  {
   "cell_type": "code",
   "execution_count": 23,
   "metadata": {},
   "outputs": [
    {
     "name": "stdout",
     "output_type": "stream",
     "text": [
      "Enter n = 5\n",
      "Enter x = 132\n",
      "[132]\n",
      "Enter x = 3423\n",
      "[132, 3423]\n",
      "Enter x = 132\n",
      "[132, 3423, 132]\n",
      "Enter x = 34\n",
      "[132, 3423, 132, 34]\n",
      "Enter x = 34\n",
      "[132, 3423, 132, 34, 34]\n"
     ]
    }
   ],
   "source": [
    "l = []\n",
    "n = int(input(\"Enter n = \"))\n",
    "for i in range(n):\n",
    "    x = int(input(\"Enter x = \"))\n",
    "    l.append(x)\n",
    "    \n",
    "    print(l)"
   ]
  },
  {
   "cell_type": "code",
   "execution_count": 28,
   "metadata": {},
   "outputs": [
    {
     "name": "stdout",
     "output_type": "stream",
     "text": [
      "3755\n",
      "3423\n",
      "34\n"
     ]
    }
   ],
   "source": [
    "print(sum(l))\n",
    "print(max(l))\n",
    "print(min(l))"
   ]
  },
  {
   "cell_type": "code",
   "execution_count": 29,
   "metadata": {},
   "outputs": [
    {
     "name": "stdout",
     "output_type": "stream",
     "text": [
      "[34, 34, 132, 132, 3423]\n"
     ]
    }
   ],
   "source": [
    "l.sort()\n",
    "print(l)"
   ]
  },
  {
   "cell_type": "code",
   "execution_count": 30,
   "metadata": {},
   "outputs": [
    {
     "name": "stdout",
     "output_type": "stream",
     "text": [
      "[3423, 132, 132, 34, 34]\n"
     ]
    }
   ],
   "source": [
    "l.reverse()\n",
    "print(l)"
   ]
  },
  {
   "cell_type": "code",
   "execution_count": 31,
   "metadata": {},
   "outputs": [
    {
     "data": {
      "text/plain": [
       "['Ball', 'Cat', 'Zebra', 'apple', 'xray']"
      ]
     },
     "execution_count": 31,
     "metadata": {},
     "output_type": "execute_result"
    }
   ],
   "source": [
    "a = [\"Ball\",\"Cat\",\"apple\",\"Zebra\",\"xray\"]\n",
    "a.sort()\n",
    "a"
   ]
  },
  {
   "cell_type": "code",
   "execution_count": 34,
   "metadata": {},
   "outputs": [
    {
     "name": "stdout",
     "output_type": "stream",
     "text": [
      "['Cat', 'cab']\n"
     ]
    }
   ],
   "source": [
    "l = []\n",
    "a = [\"Ball\",\"Cat\",\"apple\",\"Zebra\",\"xray\",'cab']\n",
    "for i in a:\n",
    "    if i[0].lower() == \"c\":\n",
    "        l.append(i)\n",
    "        \n",
    "print(l)"
   ]
  },
  {
   "cell_type": "code",
   "execution_count": 35,
   "metadata": {},
   "outputs": [
    {
     "name": "stdout",
     "output_type": "stream",
     "text": [
      "['Cat', 'Zebra', 'apple', 'xray']\n"
     ]
    }
   ],
   "source": [
    "# del remove() pop()\n",
    "a = ['Ball', 'Cat', 'Zebra', 'apple', 'xray']\n",
    "del a[0]\n",
    "print(a)"
   ]
  },
  {
   "cell_type": "code",
   "execution_count": 38,
   "metadata": {},
   "outputs": [
    {
     "name": "stdout",
     "output_type": "stream",
     "text": [
      "['xray']\n"
     ]
    }
   ],
   "source": [
    "a = ['Ball', 'Cat', 'Zebra', 'apple', 'xray']\n",
    "del a[0:4]\n",
    "print(a)"
   ]
  },
  {
   "cell_type": "code",
   "execution_count": 39,
   "metadata": {},
   "outputs": [
    {
     "name": "stdout",
     "output_type": "stream",
     "text": [
      "['Cat', 'Zebra', 'apple', 'xray']\n"
     ]
    }
   ],
   "source": [
    "a = ['Ball', 'Cat', 'Zebra', 'apple', 'xray']\n",
    "a.remove(\"Ball\")\n",
    "print(a)"
   ]
  },
  {
   "cell_type": "code",
   "execution_count": 45,
   "metadata": {},
   "outputs": [
    {
     "name": "stdout",
     "output_type": "stream",
     "text": [
      "Enter value = apple\n",
      "['Ball', 'Cat', 'Zebra', 'Ball', 'xray', 'Ball']\n"
     ]
    }
   ],
   "source": [
    "a = ['Ball', 'Cat', 'Zebra','Ball', 'apple', 'xray',\"Ball\"]\n",
    "search = input(\"Enter value = \")\n",
    "for i in a:\n",
    "    if i == search:\n",
    "        a.remove(search)\n",
    "print(a)"
   ]
  },
  {
   "cell_type": "code",
   "execution_count": 43,
   "metadata": {},
   "outputs": [
    {
     "name": "stdout",
     "output_type": "stream",
     "text": [
      "0\n",
      "3\n",
      "6\n"
     ]
    }
   ],
   "source": [
    "a = ['Ball', 'Cat', 'Zebra','Ball', 'apple', 'xray',\"Ball\"]\n",
    "for i in range(len(a)):\n",
    "    if a[i] == \"Ball\":\n",
    "        print(i)"
   ]
  },
  {
   "cell_type": "code",
   "execution_count": 50,
   "metadata": {},
   "outputs": [
    {
     "name": "stdout",
     "output_type": "stream",
     "text": [
      "['Ball', 'Cat', 'Zebra', 'Ball', 'apple', 'xray']\n",
      "Ball\n"
     ]
    }
   ],
   "source": [
    "# pop()\n",
    "a = ['Ball', 'Cat', 'Zebra','Ball', 'apple', 'xray',\"Ball\"]\n",
    "b = a.pop()\n",
    "print(a)\n",
    "print(b)"
   ]
  },
  {
   "cell_type": "code",
   "execution_count": 48,
   "metadata": {},
   "outputs": [
    {
     "name": "stdout",
     "output_type": "stream",
     "text": [
      "['Ball', 'Ball', 'Ball']\n",
      "['Cat', 'Zebra', 'apple', 'xray']\n"
     ]
    }
   ],
   "source": [
    "l = []\n",
    "a = ['Ball', 'Cat', 'Zebra','Ball', 'apple', 'xray',\"Ball\"]\n",
    "for i in a:\n",
    "    if i == \"Ball\":\n",
    "        l.append(\"Ball\")\n",
    "        a.remove(\"Ball\")\n",
    "print(l)\n",
    "print(a)"
   ]
  },
  {
   "cell_type": "code",
   "execution_count": 51,
   "metadata": {},
   "outputs": [
    {
     "name": "stdout",
     "output_type": "stream",
     "text": [
      "[['Ram', 34, 'Kathmandu'], ['Shyam', 45, 'Bhaktapr'], ['Hari', 56, 'Lalitpur']]\n"
     ]
    }
   ],
   "source": [
    "# list inside list\n",
    "info = [[\"Ram\",34,\"Kathmandu\"],\n",
    "       [\"Shyam\",45,\"Bhaktapr\"],\n",
    "       [\"Hari\",56,\"Lalitpur\"]]\n",
    "print(info)"
   ]
  },
  {
   "cell_type": "code",
   "execution_count": 1,
   "metadata": {},
   "outputs": [
    {
     "name": "stdout",
     "output_type": "stream",
     "text": [
      "Enter n = 2\n",
      "Enter name = Ram\n",
      "Enter age = 34\n",
      "Enter add = Kathmandu\n",
      "Enter name = Shyam\n",
      "Enter age = 45\n",
      "Enter add = Lalitpur\n",
      "[['Ram', 34, 'Kathmandu'], ['Shyam', 45, 'Lalitpur']]\n"
     ]
    }
   ],
   "source": [
    "info = []\n",
    "n = int(input(\"Enter n = \"))\n",
    "for i in range(n):\n",
    "    name = input(\"Enter name = \")\n",
    "    age = int(input(\"Enter age = \"))\n",
    "    add = input(\"Enter add = \")\n",
    "    data = [name,age,add]\n",
    "    info.append(data)\n",
    "    \n",
    "print(info)"
   ]
  },
  {
   "cell_type": "code",
   "execution_count": 2,
   "metadata": {},
   "outputs": [
    {
     "data": {
      "text/plain": [
       "[['Ram', 34, 'Kathmandu'],\n",
       " ['Shyam', 45, 'Bhaktapr'],\n",
       " ['Hari', 56, 'Lalitpur'],\n",
       " ['Nabin', 34, 'Chitwan']]"
      ]
     },
     "execution_count": 2,
     "metadata": {},
     "output_type": "execute_result"
    }
   ],
   "source": [
    "a = [['Ram', 34, 'Kathmandu'], ['Shyam', 45, 'Bhaktapr'], ['Hari', 56, 'Lalitpur']]\n",
    "a.append(['Nabin',34,'Chitwan'])\n",
    "a"
   ]
  },
  {
   "cell_type": "code",
   "execution_count": 6,
   "metadata": {},
   "outputs": [
    {
     "name": "stdout",
     "output_type": "stream",
     "text": [
      "['Ram', 34, 'Kathmandu']\n",
      "Kathmandu\n"
     ]
    }
   ],
   "source": [
    "print(a[0])\n",
    "print(a[0][2])"
   ]
  },
  {
   "cell_type": "code",
   "execution_count": 8,
   "metadata": {},
   "outputs": [
    {
     "data": {
      "text/plain": [
       "[['Ram Prasad', 23, 'Bara'],\n",
       " ['Shyam', 45, 'Bhaktapr'],\n",
       " ['Hari', 56, 'Lalitpur']]"
      ]
     },
     "execution_count": 8,
     "metadata": {},
     "output_type": "execute_result"
    }
   ],
   "source": [
    "a = [['Ram', 34, 'Kathmandu'], ['Shyam', 45, 'Bhaktapr'], ['Hari', 56, 'Lalitpur']]\n",
    "a[0] = [\"Ram Prasad\",23,'Bara']\n",
    "a"
   ]
  },
  {
   "cell_type": "code",
   "execution_count": 9,
   "metadata": {},
   "outputs": [
    {
     "data": {
      "text/plain": [
       "[['Ram Prasad', 34, 'Kathmandu'],\n",
       " ['Shyam', 45, 'Bhaktapr'],\n",
       " ['Hari', 56, 'Lalitpur']]"
      ]
     },
     "execution_count": 9,
     "metadata": {},
     "output_type": "execute_result"
    }
   ],
   "source": [
    "a = [['Ram', 34, 'Kathmandu'], ['Shyam', 45, 'Bhaktapr'], ['Hari', 56, 'Lalitpur']]\n",
    "a[0][0] = \"Ram Prasad\"\n",
    "a"
   ]
  },
  {
   "cell_type": "code",
   "execution_count": 12,
   "metadata": {},
   "outputs": [
    {
     "name": "stdout",
     "output_type": "stream",
     "text": [
      "['Ram', 34, 'Kathmandu']\n",
      "['Shyam', 45, 'Bhaktapr']\n",
      "['Hari', 56, 'Lalitpur']\n"
     ]
    }
   ],
   "source": [
    "a = [['Ram', 34, 'Kathmandu'], ['Shyam', 45, 'Bhaktapr'], ['Hari', 56, 'Lalitpur']]\n",
    "for i in a:\n",
    "    print(i)"
   ]
  },
  {
   "cell_type": "code",
   "execution_count": 16,
   "metadata": {},
   "outputs": [
    {
     "name": "stdout",
     "output_type": "stream",
     "text": [
      "Enter search data = Ram\n",
      "['Ram', 34, 'Kathmandu']\n",
      "['Ram', 56, 'Lalitpur']\n"
     ]
    }
   ],
   "source": [
    "a = [['Ram', 34, 'Kathmandu'], ['Shyam', 45, 'Bhaktapr'], ['Ram', 56, 'Lalitpur']]\n",
    "search = input(\"Enter search data = \")\n",
    "\n",
    "for i in a:\n",
    "    if search in i: \n",
    "        print(i)"
   ]
  },
  {
   "cell_type": "code",
   "execution_count": 17,
   "metadata": {},
   "outputs": [
    {
     "name": "stdout",
     "output_type": "stream",
     "text": [
      "Enter search data = Ram\n",
      "[['Shyam', 45, 'Bhaktapr']]\n"
     ]
    }
   ],
   "source": [
    "a = [['Ram', 34, 'Kathmandu'], \n",
    "     ['Shyam', 45, 'Bhaktapr'], \n",
    "     ['Ram', 56, 'Lalitpur']]\n",
    "search = input(\"Enter search data = \")\n",
    "\n",
    "for i in a:\n",
    "    if search in i: \n",
    "        a.remove(i)\n",
    "        \n",
    "print(a)"
   ]
  },
  {
   "cell_type": "code",
   "execution_count": 18,
   "metadata": {},
   "outputs": [
    {
     "name": "stdout",
     "output_type": "stream",
     "text": [
      "[['Ram', 34, 'Bkt'], ['Ham', 35, 'Ltp']]\n"
     ]
    }
   ],
   "source": [
    "a=[['Ram',32,'Ktm'],['Ram',34,'Bkt'],['Ham',35,'Ltp']]\n",
    "\n",
    "for i in a:\n",
    "    if 'Ram' in i:\n",
    "        a.remove(i)\n",
    "print(a)"
   ]
  },
  {
   "cell_type": "code",
   "execution_count": 20,
   "metadata": {},
   "outputs": [
    {
     "name": "stdout",
     "output_type": "stream",
     "text": [
      "[['Ham', 35, 'Ltp']]\n"
     ]
    }
   ],
   "source": [
    "b = []\n",
    "a=[['Ram',32,'Ktm'],['Ram',34,'Bkt'],['Ham',35,'Ltp']]\n",
    "for i in a:\n",
    "    if i[0] == \"Ram\":\n",
    "        pass\n",
    "    else:\n",
    "        b.append(i)\n",
    "print(b)"
   ]
  },
  {
   "cell_type": "code",
   "execution_count": null,
   "metadata": {},
   "outputs": [],
   "source": [
    "# WAP to create a matrix having certain row and column"
   ]
  }
 ],
 "metadata": {
  "kernelspec": {
   "display_name": "Python 3 (ipykernel)",
   "language": "python",
   "name": "python3"
  },
  "language_info": {
   "codemirror_mode": {
    "name": "ipython",
    "version": 3
   },
   "file_extension": ".py",
   "mimetype": "text/x-python",
   "name": "python",
   "nbconvert_exporter": "python",
   "pygments_lexer": "ipython3",
   "version": "3.7.1"
  }
 },
 "nbformat": 4,
 "nbformat_minor": 2
}
