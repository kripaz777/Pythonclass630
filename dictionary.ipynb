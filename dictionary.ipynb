{
 "cells": [
  {
   "cell_type": "code",
   "execution_count": 1,
   "metadata": {},
   "outputs": [],
   "source": [
    "# Dictionary\n",
    "# -Indexed\n",
    "# -Ordered\n",
    "# -Multiple data\n",
    "# -Mutable"
   ]
  },
  {
   "cell_type": "code",
   "execution_count": 6,
   "metadata": {},
   "outputs": [
    {
     "name": "stdout",
     "output_type": "stream",
     "text": [
      "{'a': 'Apple', 'b': 'Ball', 'c': 'Cat'}\n",
      "Apple\n",
      "Ball\n",
      "Cat\n",
      "3\n"
     ]
    }
   ],
   "source": [
    "# d = dict()\n",
    "# d = {<key>:<value>,<key>:<value>}\n",
    "\n",
    "d = {'a':'Apple','b':'Ball','c':'Cat'}\n",
    "print(d)\n",
    "print(d['a'])\n",
    "print(d['b'])\n",
    "print(d['c'])\n",
    "\n",
    "print(len(d))"
   ]
  },
  {
   "cell_type": "code",
   "execution_count": 9,
   "metadata": {},
   "outputs": [
    {
     "name": "stdout",
     "output_type": "stream",
     "text": [
      "{'a': 'Ant', 'b': 'Ball', 'c': 'Cat'}\n"
     ]
    }
   ],
   "source": [
    "d = {'a':'Apple','b':'Ball','c':'Cat'}\n",
    "d['a'] = 'Ant'\n",
    "print(d)"
   ]
  },
  {
   "cell_type": "code",
   "execution_count": 10,
   "metadata": {},
   "outputs": [
    {
     "data": {
      "text/plain": [
       "{'a': 'Apple', 'b': 'Ball', 'c': 'Cat', 'A': 'Ant'}"
      ]
     },
     "execution_count": 10,
     "metadata": {},
     "output_type": "execute_result"
    }
   ],
   "source": [
    "d = {'a':'Apple','b':'Ball','c':'Cat'}\n",
    "d['A'] = 'Ant'\n",
    "d"
   ]
  },
  {
   "cell_type": "code",
   "execution_count": 11,
   "metadata": {},
   "outputs": [
    {
     "data": {
      "text/plain": [
       "{'a': 'Apple', 'b': 'Ball', 'c': 'Cat', 'e': 'Egg'}"
      ]
     },
     "execution_count": 11,
     "metadata": {},
     "output_type": "execute_result"
    }
   ],
   "source": [
    "d = {}\n",
    "d['a'] = 'Apple'\n",
    "d['b'] = 'Ball'\n",
    "d['c'] = 'Cat'\n",
    "d['e'] = 'Egg'\n",
    "d"
   ]
  },
  {
   "cell_type": "code",
   "execution_count": 12,
   "metadata": {},
   "outputs": [
    {
     "name": "stdout",
     "output_type": "stream",
     "text": [
      "Enter n = 2\n",
      "Enter name = Ram\n",
      "Enter phone = 9867667654\n",
      "Enter name = Shyam\n",
      "Enter phone = 9809887765\n",
      "{'Ram': 9867667654, 'Shyam': 9809887765}\n"
     ]
    }
   ],
   "source": [
    "d = {}\n",
    "n = int(input(\"Enter n = \"))\n",
    "for i in range(n):\n",
    "    name = input(\"Enter name = \")\n",
    "    phone = int(input(\"Enter phone = \"))\n",
    "    d[name] = phone\n",
    "    \n",
    "print(d)"
   ]
  },
  {
   "cell_type": "code",
   "execution_count": 13,
   "metadata": {},
   "outputs": [
    {
     "name": "stdout",
     "output_type": "stream",
     "text": [
      "Ram\n",
      "Shyam\n"
     ]
    }
   ],
   "source": [
    "a = {'Ram': 9867667654, 'Shyam': 9809887765}\n",
    "for i in a:\n",
    "    print(i)"
   ]
  },
  {
   "cell_type": "code",
   "execution_count": 14,
   "metadata": {},
   "outputs": [
    {
     "name": "stdout",
     "output_type": "stream",
     "text": [
      "9867667654\n",
      "9809887765\n"
     ]
    }
   ],
   "source": [
    "a = {'Ram': 9867667654, 'Shyam': 9809887765}\n",
    "for i in a.values():\n",
    "    print(i)"
   ]
  },
  {
   "cell_type": "code",
   "execution_count": 15,
   "metadata": {},
   "outputs": [
    {
     "name": "stdout",
     "output_type": "stream",
     "text": [
      "('Ram', 9867667654)\n",
      "('Shyam', 9809887765)\n"
     ]
    }
   ],
   "source": [
    "a = {'Ram': 9867667654, 'Shyam': 9809887765}\n",
    "for i in a.items():\n",
    "    print(i)"
   ]
  },
  {
   "cell_type": "code",
   "execution_count": 16,
   "metadata": {},
   "outputs": [
    {
     "data": {
      "text/plain": [
       "{'Ram': 9867667654, 'Shyam': 9809887765}"
      ]
     },
     "execution_count": 16,
     "metadata": {},
     "output_type": "execute_result"
    }
   ],
   "source": [
    "d = [('Ram', 9867667654),('Shyam', 9809887765)]\n",
    "dict(d)"
   ]
  },
  {
   "cell_type": "code",
   "execution_count": 19,
   "metadata": {},
   "outputs": [
    {
     "name": "stdout",
     "output_type": "stream",
     "text": [
      "{'Ram': 9867667654, 'Shyam': 9809887765}\n",
      "{'Shyam': 9809887765}\n"
     ]
    }
   ],
   "source": [
    "# del pop \n",
    "a = {'Ram': 9867667654, 'Shyam': 9809887765}\n",
    "print(a)\n",
    "del a['Ram']\n",
    "print(a)"
   ]
  },
  {
   "cell_type": "code",
   "execution_count": 25,
   "metadata": {},
   "outputs": [
    {
     "name": "stdout",
     "output_type": "stream",
     "text": [
      "{'Ram': 9867667654, 'Shyam': 9809887765}\n",
      "{'Shyam': 9809887765}\n",
      "9867667654\n"
     ]
    }
   ],
   "source": [
    "a = {'Ram': 9867667654, 'Shyam': 9809887765}\n",
    "print(a)\n",
    "\n",
    "b = a.pop('Ram')\n",
    "print(a)\n",
    "print(b)"
   ]
  },
  {
   "cell_type": "code",
   "execution_count": 30,
   "metadata": {},
   "outputs": [
    {
     "name": "stdout",
     "output_type": "stream",
     "text": [
      "[9867667654, 9856556543]\n",
      "[9809887765, 9808667654]\n"
     ]
    }
   ],
   "source": [
    "#list inside dict\n",
    "a = {'Ram': [9867667654,9856556543], 'Shyam': [9809887765,9808667654]}\n",
    "print(a['Ram'])\n",
    "print(a['Shyam'])"
   ]
  },
  {
   "cell_type": "code",
   "execution_count": 31,
   "metadata": {},
   "outputs": [
    {
     "data": {
      "text/plain": [
       "{'Ram': [9808667654, 9856554543], 'Shyam': [9809887765, 9808667654]}"
      ]
     },
     "execution_count": 31,
     "metadata": {},
     "output_type": "execute_result"
    }
   ],
   "source": [
    "a = {'Ram': [9867667654,9856556543], 'Shyam': [9809887765,9808667654]}\n",
    "a['Ram'] = [9808667654,9856554543]\n",
    "a"
   ]
  },
  {
   "cell_type": "code",
   "execution_count": 34,
   "metadata": {},
   "outputs": [
    {
     "data": {
      "text/plain": [
       "{'Ram': [9808000000, 9856556543], 'Shyam': [9809887765, 9808667654]}"
      ]
     },
     "execution_count": 34,
     "metadata": {},
     "output_type": "execute_result"
    }
   ],
   "source": [
    "a = {'Ram': [9867667654,9856556543], 'Shyam': [9809887765,9808667654]}\n",
    "a['Ram'][0] = 9808000000\n",
    "a"
   ]
  },
  {
   "cell_type": "code",
   "execution_count": 37,
   "metadata": {},
   "outputs": [
    {
     "data": {
      "text/plain": [
       "{'Ram': [9867667654, 9856556543, 9808556543],\n",
       " 'Shyam': [9809887765, 9808667654, 9808667654]}"
      ]
     },
     "execution_count": 37,
     "metadata": {},
     "output_type": "execute_result"
    }
   ],
   "source": [
    "a = {'Ram': [9867667654,9856556543], 'Shyam': [9809887765,9808667654]}\n",
    "a['Ram'].append(9808556543)\n",
    "a['Shyam'].append(9808667654)\n",
    "a"
   ]
  },
  {
   "cell_type": "code",
   "execution_count": null,
   "metadata": {},
   "outputs": [],
   "source": [
    "d = {}\n",
    "n = int(input(\"Enter n = \"))\n",
    "for i in range(n):\n",
    "    name = input(\"Enter name = \")\n",
    "    phone_ntc = int(input(\"Enter ntc phone = \"))\n",
    "    phone_ncell = int(input(\"Enter ncell phone = \"))\n",
    "\n",
    "    d[name] = [phone_ntc,phone_ncell]\n",
    "    \n",
    "print(d)"
   ]
  },
  {
   "cell_type": "code",
   "execution_count": 38,
   "metadata": {},
   "outputs": [
    {
     "name": "stdout",
     "output_type": "stream",
     "text": [
      "[{'Name': 'Ram', 'ntc': 9867556543, 'ncell': 9808667654}, {'Name': 'Shyam', 'ntc': 9867556567, 'ncell': 9808667600}, {'Name': 'Akash', 'ntc': 9867556511, 'ncell': 9808667622}, {'Name': 'Ram', 'ntc': 9867556545, 'ncell': 9808667609}]\n"
     ]
    }
   ],
   "source": [
    "# dict inside list\n",
    "d = [{'Name':'Ram','ntc':9867556543,'ncell':9808667654},\n",
    "    {'Name':'Shyam','ntc':9867556567,'ncell':9808667600},\n",
    "    {'Name':'Akash','ntc':9867556511,'ncell':9808667622},\n",
    "    {'Name':'Ram','ntc':9867556545,'ncell':9808667609}]\n",
    "\n",
    "print(d)"
   ]
  },
  {
   "cell_type": "code",
   "execution_count": 42,
   "metadata": {},
   "outputs": [
    {
     "name": "stdout",
     "output_type": "stream",
     "text": [
      "9867556567\n"
     ]
    }
   ],
   "source": [
    "print(d[1]['ntc'])"
   ]
  },
  {
   "cell_type": "code",
   "execution_count": 47,
   "metadata": {},
   "outputs": [
    {
     "name": "stdout",
     "output_type": "stream",
     "text": [
      "{'Name': 'Ram', 'ntc': 9867556543, 'ncell': 9808667654}\n",
      "{'Name': 'Ram', 'ntc': 9867556545, 'ncell': 9808667609}\n"
     ]
    }
   ],
   "source": [
    "for i in d:\n",
    "    if i['Name'] == \"Ram\":\n",
    "        print(i)"
   ]
  },
  {
   "cell_type": "code",
   "execution_count": 51,
   "metadata": {},
   "outputs": [
    {
     "data": {
      "text/plain": [
       "[{}]"
      ]
     },
     "execution_count": 51,
     "metadata": {},
     "output_type": "execute_result"
    }
   ],
   "source": [
    "d = [{}]\n",
    "d"
   ]
  },
  {
   "cell_type": "code",
   "execution_count": 52,
   "metadata": {},
   "outputs": [
    {
     "name": "stdout",
     "output_type": "stream",
     "text": [
      "Enter n = 2\n",
      "Enter name = Ram\n",
      "Enter ncell = 9808998765\n",
      "Enter ntc = 9876567\n",
      "Enter name = Shyam\n",
      "Enter ncell = 9798789890\n",
      "Enter ntc = 90870878\n",
      "[{'Name': 'Ram', 'Ncell': 9808998765, 'Ntc': 9876567}, {'Name': 'Shyam', 'Ncell': 9798789890, 'Ntc': 90870878}]\n"
     ]
    }
   ],
   "source": [
    "l = []\n",
    "n = int(input(\"Enter n = \"))\n",
    "for i in range(n):\n",
    "    name = input(\"Enter name = \")\n",
    "    ncell = int(input(\"Enter ncell = \"))\n",
    "    ntc = int(input(\"Enter ntc = \"))\n",
    "    data = {'Name':name,'Ncell':ncell,'Ntc':ntc}\n",
    "    l.append(data)\n",
    "    \n",
    "print(l)"
   ]
  },
  {
   "cell_type": "code",
   "execution_count": 53,
   "metadata": {},
   "outputs": [
    {
     "data": {
      "text/plain": [
       "{'Name': ['Ram', 'Shyam', 'Hari'],\n",
       " 'Age': [34, 54, 23],\n",
       " 'Address': ['Kathmandu', 'Bhaktapur', 'Chitwan']}"
      ]
     },
     "execution_count": 53,
     "metadata": {},
     "output_type": "execute_result"
    }
   ],
   "source": [
    "a = {'Name':[\"Ram\",\"Shyam\",\"Hari\"],\n",
    "    'Age':[34,54,23],\n",
    "    'Address':['Kathmandu',\"Bhaktapur\",'Chitwan']}\n",
    "a"
   ]
  },
  {
   "cell_type": "code",
   "execution_count": 56,
   "metadata": {},
   "outputs": [
    {
     "name": "stdout",
     "output_type": "stream",
     "text": [
      "Enter index = 1\n",
      "Shyam\n",
      "54\n",
      "Bhaktapur\n"
     ]
    }
   ],
   "source": [
    "i = int(input(\"Enter index = \"))\n",
    "print(a['Name'][i])\n",
    "print(a['Age'][i])\n",
    "print(a['Address'][i])"
   ]
  },
  {
   "cell_type": "code",
   "execution_count": null,
   "metadata": {},
   "outputs": [],
   "source": []
  }
 ],
 "metadata": {
  "kernelspec": {
   "display_name": "Python 3 (ipykernel)",
   "language": "python",
   "name": "python3"
  },
  "language_info": {
   "codemirror_mode": {
    "name": "ipython",
    "version": 3
   },
   "file_extension": ".py",
   "mimetype": "text/x-python",
   "name": "python",
   "nbconvert_exporter": "python",
   "pygments_lexer": "ipython3",
   "version": "3.7.1"
  }
 },
 "nbformat": 4,
 "nbformat_minor": 2
}
