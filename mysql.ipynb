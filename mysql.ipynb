{
 "cells": [
  {
   "cell_type": "code",
   "execution_count": 1,
   "metadata": {},
   "outputs": [
    {
     "name": "stdout",
     "output_type": "stream",
     "text": [
      "Requirement already satisfied: mysql-connector in c:\\users\\coral\\anaconda3\\lib\\site-packages (2.2.9)\n"
     ]
    },
    {
     "name": "stderr",
     "output_type": "stream",
     "text": [
      "WARNING: Ignoring invalid distribution -illow (c:\\users\\coral\\anaconda3\\lib\\site-packages)\n",
      "WARNING: Ignoring invalid distribution -illow (c:\\users\\coral\\anaconda3\\lib\\site-packages)\n",
      "WARNING: Ignoring invalid distribution -illow (c:\\users\\coral\\anaconda3\\lib\\site-packages)\n",
      "WARNING: Ignoring invalid distribution -illow (c:\\users\\coral\\anaconda3\\lib\\site-packages)\n",
      "WARNING: Ignoring invalid distribution -illow (c:\\users\\coral\\anaconda3\\lib\\site-packages)\n"
     ]
    }
   ],
   "source": [
    "!pip install mysql-connector "
   ]
  },
  {
   "cell_type": "code",
   "execution_count": 5,
   "metadata": {},
   "outputs": [],
   "source": [
    "import mysql.connector  \t\t#importing database\n",
    "database = mysql.connector.connect(\n",
    "    host=\"localhost\",\n",
    "    user=\"root\",\n",
    "    password=\"\",\n",
    "    database = \"class630\"\n",
    ")\n",
    "db = database.cursor()\n"
   ]
  },
  {
   "cell_type": "code",
   "execution_count": 16,
   "metadata": {},
   "outputs": [
    {
     "name": "stdout",
     "output_type": "stream",
     "text": [
      "(2, 'Shyam', 77, 99, 48, 90, 72, 412, 83.0, 'A')\n",
      "(5, 'Nabin', 78, 89, 56, 78, 76, 400, 80.0, 'A')\n",
      "(6, 'Sabin', 78, 89, 56, 78, 76, 400, 80.0, 'A')\n",
      "(7, 'Ram', 78, 90, 78, 87, 78, 423, 84.6, 'A')\n",
      "(8, 'hari', 67, 89, 98, 93, 78, 437, 87.4, 'A')\n"
     ]
    }
   ],
   "source": [
    "db.execute(\"SELECT * FROM student\")\n",
    "result =db.fetchall()\n",
    "for x in result:\n",
    "    print(x)\n"
   ]
  },
  {
   "cell_type": "code",
   "execution_count": 7,
   "metadata": {},
   "outputs": [
    {
     "name": "stdout",
     "output_type": "stream",
     "text": [
      "(2, 'Shyam', 412, 83.0, 'A')\n"
     ]
    }
   ],
   "source": [
    "\n",
    "db.execute(\"SELECT id, name, total, per, grade FROM student\")\n",
    "result =db.fetchall()\n",
    "for x in result:\n",
    "    print(x)\n"
   ]
  },
  {
   "cell_type": "code",
   "execution_count": 15,
   "metadata": {},
   "outputs": [
    {
     "name": "stdout",
     "output_type": "stream",
     "text": [
      "(2, 'Shyam', 412, 83.0, 'A')\n",
      "(5, 'Nabin', 400, 80.0, 'A')\n",
      "(6, 'Sabin', 400, 80.0, 'A')\n",
      "(7, 'Ram', 423, 84.6, 'A')\n",
      "(8, 'hari', 437, 87.4, 'A')\n"
     ]
    }
   ],
   "source": [
    "\n",
    "db.execute(\"SELECT id, name, total, per, grade FROM student WHERE grade = 'A'\")\n",
    "result =db.fetchall()\n",
    "for x in result:\n",
    "    print(x)\n"
   ]
  },
  {
   "cell_type": "code",
   "execution_count": 9,
   "metadata": {},
   "outputs": [],
   "source": [
    "db.execute(\"INSERT INTO student (name, physics, chemistry, math, english, nepali, total, per, grade) \n",
    "           VALUES ('Nabin', 78, 89, 56, 78, 76, 400, 80.0, 'A')\")\n",
    "database.commit()"
   ]
  },
  {
   "cell_type": "code",
   "execution_count": 14,
   "metadata": {},
   "outputs": [
    {
     "name": "stdout",
     "output_type": "stream",
     "text": [
      "Enter n = 2\n",
      "Enter name = Ram\n",
      "Enter physics marks = 78\n",
      "Enter chemistry marks = 90\n",
      "Enter math marks = 78\n",
      "Enter english marks = 87\n",
      "Enter nepali marks = 78\n",
      "Enter name = hari\n",
      "Enter physics marks = 67\n",
      "Enter chemistry marks = 89\n",
      "Enter math marks = 98\n",
      "Enter english marks = 93\n",
      "Enter nepali marks = 78\n"
     ]
    }
   ],
   "source": [
    "n = int(input(\"Enter n = \"))\n",
    "for i in range(n):\n",
    "    name = input(\"Enter name = \")\n",
    "    physics = int(input(\"Enter physics marks = \"))\n",
    "    chemistry = int(input(\"Enter chemistry marks = \"))\n",
    "    math = int(input(\"Enter math marks = \"))\n",
    "    english = int(input(\"Enter english marks = \"))\n",
    "    nepali = int(input(\"Enter nepali marks = \"))\n",
    "    total =sum([physics,chemistry,math,english,neplai])\n",
    "    per = total/5\n",
    "    if per > 80:\n",
    "        grade = \"A\"\n",
    "    elif per > 60:\n",
    "        grade = \"B\"\n",
    "    elif per > 40:\n",
    "        grade = \"C\"\n",
    "    else:\n",
    "        grade = \"F\"\n",
    "    db.execute(f\"INSERT INTO student (name, physics, chemistry, math, english, nepali, total, per, grade)  VALUES ('{name}', {physics}, {chemistry}, {math}, {english}, {nepali}, {total}, {per}, '{grade}')\")\n",
    "    \n",
    "database.commit()"
   ]
  },
  {
   "cell_type": "code",
   "execution_count": 17,
   "metadata": {},
   "outputs": [],
   "source": [
    "db.execute(\"DELETE FROM student WHERE id = 2\")\n",
    "database.commit()"
   ]
  },
  {
   "cell_type": "code",
   "execution_count": 18,
   "metadata": {},
   "outputs": [
    {
     "name": "stdout",
     "output_type": "stream",
     "text": [
      "(5, 'Nabin', 78, 89, 56, 78, 76, 400, 80.0, 'A')\n",
      "(6, 'Sabin', 78, 89, 56, 78, 76, 400, 80.0, 'A')\n",
      "(7, 'Ram', 78, 90, 78, 87, 78, 423, 84.6, 'A')\n",
      "(8, 'hari', 67, 89, 98, 93, 78, 437, 87.4, 'A')\n"
     ]
    }
   ],
   "source": [
    "db.execute(\"SELECT * FROM student\")\n",
    "result =db.fetchall()\n",
    "for x in result:\n",
    "    print(x)\n"
   ]
  },
  {
   "cell_type": "code",
   "execution_count": 21,
   "metadata": {},
   "outputs": [],
   "source": [
    "db.execute(\"UPDATE student SET name = 'Ramprasad' WHERE name = 'Ram' \")\n",
    "database.commit()"
   ]
  },
  {
   "cell_type": "code",
   "execution_count": 22,
   "metadata": {},
   "outputs": [
    {
     "name": "stdout",
     "output_type": "stream",
     "text": [
      "(5, 'Nabin', 78, 89, 56, 78, 76, 400, 80.0, 'A')\n",
      "(6, 'Sabin', 78, 89, 56, 78, 76, 400, 80.0, 'A')\n",
      "(7, 'Ramprasad', 78, 90, 78, 87, 78, 423, 84.6, 'A')\n",
      "(8, 'hari', 67, 89, 98, 93, 78, 437, 87.4, 'A')\n"
     ]
    }
   ],
   "source": [
    "db.execute(\"SELECT * FROM student\")\n",
    "result =db.fetchall()\n",
    "for x in result:\n",
    "    print(x)\n"
   ]
  },
  {
   "cell_type": "code",
   "execution_count": 30,
   "metadata": {},
   "outputs": [
    {
     "name": "stdout",
     "output_type": "stream",
     "text": [
      "Enter name = ssd\n",
      "Enter final name = Nabin\n"
     ]
    }
   ],
   "source": [
    "initial_name = input(\"Enter name = \")\n",
    "final_name = input(\"Enter final name = \")\n",
    "\n",
    "db.execute(f\"UPDATE student SET name = '{final_name}' WHERE name = '{initial_name}' \")\n",
    "database.commit()"
   ]
  },
  {
   "cell_type": "code",
   "execution_count": 31,
   "metadata": {},
   "outputs": [
    {
     "name": "stdout",
     "output_type": "stream",
     "text": [
      "(5, 'Nabin', 78, 89, 56, 78, 76, 400, 80.0, 'A')\n",
      "(6, 'Sabin', 78, 89, 56, 78, 76, 400, 80.0, 'A')\n",
      "(7, 'Ramprasad', 78, 90, 78, 87, 78, 423, 84.6, 'A')\n",
      "(8, 'hari', 67, 89, 98, 93, 78, 437, 87.4, 'A')\n"
     ]
    }
   ],
   "source": [
    "db.execute(\"SELECT * FROM student\")\n",
    "result =db.fetchall()\n",
    "for x in result:\n",
    "    print(x)\n"
   ]
  },
  {
   "cell_type": "code",
   "execution_count": null,
   "metadata": {},
   "outputs": [],
   "source": []
  }
 ],
 "metadata": {
  "kernelspec": {
   "display_name": "Python 3 (ipykernel)",
   "language": "python",
   "name": "python3"
  },
  "language_info": {
   "codemirror_mode": {
    "name": "ipython",
    "version": 3
   },
   "file_extension": ".py",
   "mimetype": "text/x-python",
   "name": "python",
   "nbconvert_exporter": "python",
   "pygments_lexer": "ipython3",
   "version": "3.7.1"
  }
 },
 "nbformat": 4,
 "nbformat_minor": 2
}
