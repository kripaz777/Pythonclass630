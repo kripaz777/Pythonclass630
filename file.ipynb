{
 "cells": [
  {
   "cell_type": "code",
   "execution_count": 1,
   "metadata": {},
   "outputs": [],
   "source": [
    "# file\n",
    "# open(<file_name>,<modes>)\n",
    "\n",
    "# modes\n",
    "# read -> r\n",
    "# write -> w\n",
    "# append -> a\n",
    "# create ->x"
   ]
  },
  {
   "cell_type": "code",
   "execution_count": 4,
   "metadata": {},
   "outputs": [
    {
     "name": "stdout",
     "output_type": "stream",
     "text": [
      "The file is already there\n"
     ]
    }
   ],
   "source": [
    "try:\n",
    "    b = open('data.txt','x')\n",
    "    b.close()\n",
    "except:\n",
    "    print(\"The file is already there\")"
   ]
  },
  {
   "cell_type": "code",
   "execution_count": 6,
   "metadata": {},
   "outputs": [
    {
     "name": "stdout",
     "output_type": "stream",
     "text": [
      "1.Hello World\n",
      "2.Hello World\n",
      "3.Hello World\n",
      "4.Hello WOrld\n",
      "5.Hello World\n",
      "<class 'str'>\n"
     ]
    }
   ],
   "source": [
    "b = open('data.txt','r')\n",
    "print(b.read())\n",
    "print(type(b.read()))\n",
    "b.close()"
   ]
  },
  {
   "cell_type": "code",
   "execution_count": 7,
   "metadata": {},
   "outputs": [],
   "source": [
    "# readline() read()"
   ]
  },
  {
   "cell_type": "code",
   "execution_count": 9,
   "metadata": {},
   "outputs": [
    {
     "name": "stdout",
     "output_type": "stream",
     "text": [
      "1.Hello World\n",
      "\n",
      "2.Hello World\n",
      "\n"
     ]
    }
   ],
   "source": [
    "b = open('data.txt','r')\n",
    "print(b.readline())\n",
    "print(b.readline())\n",
    "\n",
    "b.close()"
   ]
  },
  {
   "cell_type": "code",
   "execution_count": 11,
   "metadata": {},
   "outputs": [
    {
     "name": "stdout",
     "output_type": "stream",
     "text": [
      "['1.Hello World', '2.Hello World', '3.Hello World', '4.Hello WOrld', '5.Hello World']\n"
     ]
    }
   ],
   "source": [
    "b = open('data.txt','r')\n",
    "x = b.read()\n",
    "y = x.split('\\n')\n",
    "print(y)\n",
    "b.close()"
   ]
  },
  {
   "cell_type": "code",
   "execution_count": 14,
   "metadata": {},
   "outputs": [
    {
     "name": "stdout",
     "output_type": "stream",
     "text": [
      "Enter line no = 2\n",
      "2.Hello World\n"
     ]
    }
   ],
   "source": [
    "line_no = int(input(\"Enter line no = \"))\n",
    "print(y[line_no-1])"
   ]
  },
  {
   "cell_type": "code",
   "execution_count": 15,
   "metadata": {},
   "outputs": [],
   "source": [
    "b = open('datas.txt','w')\n",
    "b.write('Hello World I am python')\n",
    "b.close()"
   ]
  },
  {
   "cell_type": "code",
   "execution_count": 1,
   "metadata": {},
   "outputs": [
    {
     "name": "stdout",
     "output_type": "stream",
     "text": [
      "Enter name = Ram\n",
      "Enter age = 34\n",
      "Enter address = Kathmandu\n",
      "Enter y for continue y\n",
      "Enter name = Shyam\n",
      "Enter age = 56\n",
      "Enter address = Bhaktapur\n",
      "Enter y for continue jhgj\n",
      "Ram 34 Kathmandu\n",
      "Shyam 56 Bhaktapur\n",
      "\n"
     ]
    }
   ],
   "source": [
    "s = \"\"\n",
    "def dataEntry():\n",
    "    global s\n",
    "    name = input(\"Enter name = \")\n",
    "    age = int(input(\"Enter age = \"))\n",
    "    add = input(\"Enter address = \")\n",
    "    info = f\"{name} {age} {add}\\n\"\n",
    "    s = s+info\n",
    "    x = input(\"Enter y for continue \")\n",
    "    if x == 'y':\n",
    "        dataEntry()\n",
    "    \n",
    "    \n",
    "dataEntry()\n",
    "print(s)\n",
    "\n",
    "b = open('datas.txt','w')\n",
    "b.write('Name Age Address\\n')\n",
    "b.write(s)\n",
    "b.close()"
   ]
  },
  {
   "cell_type": "code",
   "execution_count": 2,
   "metadata": {},
   "outputs": [
    {
     "name": "stdout",
     "output_type": "stream",
     "text": [
      "Enter name = Ram\n",
      "Enter age = 34\n",
      "Enter address = Kathmandu\n",
      "Enter y for continue y\n",
      "Enter name = Shyam\n",
      "Enter age = 45\n",
      "Enter address = Bhaktapur\n",
      "Enter y for continue y\n",
      "Enter name = Sabin\n",
      "Enter age = 78\n",
      "Enter address = Pokhara\n",
      "Enter y for continue jgh\n",
      "Ram,34,Kathmandu\n",
      "Shyam,45,Bhaktapur\n",
      "Sabin,78,Pokhara\n",
      "\n"
     ]
    }
   ],
   "source": [
    "s = \"\"\n",
    "def dataEntry():\n",
    "    global s\n",
    "    name = input(\"Enter name = \")\n",
    "    age = int(input(\"Enter age = \"))\n",
    "    add = input(\"Enter address = \")\n",
    "    info = f\"{name},{age},{add}\\n\"\n",
    "    s = s+info\n",
    "    x = input(\"Enter y for continue \")\n",
    "    if x == 'y':\n",
    "        dataEntry()\n",
    "    \n",
    "    \n",
    "dataEntry()\n",
    "print(s)\n",
    "\n",
    "b = open('datas.csv','w')\n",
    "b.write('Name,Age,Address\\n')\n",
    "b.write(s)\n",
    "b.close()"
   ]
  },
  {
   "cell_type": "code",
   "execution_count": 6,
   "metadata": {},
   "outputs": [
    {
     "ename": "NameError",
     "evalue": "name 'pwd' is not defined",
     "output_type": "error",
     "traceback": [
      "\u001b[1;31m---------------------------------------------------------------------------\u001b[0m",
      "\u001b[1;31mNameError\u001b[0m                                 Traceback (most recent call last)",
      "\u001b[1;32m~\\AppData\\Local\\Temp/ipykernel_11076/1817008381.py\u001b[0m in \u001b[0;36m<module>\u001b[1;34m\u001b[0m\n\u001b[1;32m----> 1\u001b[1;33m \u001b[0mpwd\u001b[0m\u001b[1;33m\u001b[0m\u001b[1;33m\u001b[0m\u001b[0m\n\u001b[0m\u001b[0;32m      2\u001b[0m \u001b[1;31m# import os\u001b[0m\u001b[1;33m\u001b[0m\u001b[1;33m\u001b[0m\u001b[1;33m\u001b[0m\u001b[0m\n\u001b[0;32m      3\u001b[0m \u001b[1;31m# os.listdir()\u001b[0m\u001b[1;33m\u001b[0m\u001b[1;33m\u001b[0m\u001b[1;33m\u001b[0m\u001b[0m\n",
      "\u001b[1;31mNameError\u001b[0m: name 'pwd' is not defined"
     ]
    }
   ],
   "source": [
    "pwd\n",
    "# import os\n",
    "# os.listdir()"
   ]
  },
  {
   "cell_type": "code",
   "execution_count": 7,
   "metadata": {},
   "outputs": [
    {
     "data": {
      "text/plain": [
       "'C:\\\\Users\\\\coral\\\\PythonClass630'"
      ]
     },
     "execution_count": 7,
     "metadata": {},
     "output_type": "execute_result"
    }
   ],
   "source": [
    "pwd"
   ]
  },
  {
   "cell_type": "code",
   "execution_count": 8,
   "metadata": {},
   "outputs": [
    {
     "name": "stdout",
     "output_type": "stream",
     "text": [
      "Name,Age,Address\n",
      "Ram,34,Kathmandu\n",
      "Shyam,45,Bhaktapur\n",
      "Sabin,78,Pokhara\n",
      "\n",
      "<class 'str'>\n"
     ]
    }
   ],
   "source": [
    "b = open('datas.csv','r')\n",
    "print(b.read())\n",
    "print(type(b.read()))\n",
    "b.close()"
   ]
  },
  {
   "cell_type": "code",
   "execution_count": 10,
   "metadata": {},
   "outputs": [
    {
     "data": {
      "text/html": [
       "<div>\n",
       "<style scoped>\n",
       "    .dataframe tbody tr th:only-of-type {\n",
       "        vertical-align: middle;\n",
       "    }\n",
       "\n",
       "    .dataframe tbody tr th {\n",
       "        vertical-align: top;\n",
       "    }\n",
       "\n",
       "    .dataframe thead th {\n",
       "        text-align: right;\n",
       "    }\n",
       "</style>\n",
       "<table border=\"1\" class=\"dataframe\">\n",
       "  <thead>\n",
       "    <tr style=\"text-align: right;\">\n",
       "      <th></th>\n",
       "      <th>Name</th>\n",
       "      <th>Age</th>\n",
       "      <th>Address</th>\n",
       "    </tr>\n",
       "  </thead>\n",
       "  <tbody>\n",
       "    <tr>\n",
       "      <th>0</th>\n",
       "      <td>Ram</td>\n",
       "      <td>34</td>\n",
       "      <td>Kathmandu</td>\n",
       "    </tr>\n",
       "    <tr>\n",
       "      <th>1</th>\n",
       "      <td>Shyam</td>\n",
       "      <td>45</td>\n",
       "      <td>Bhaktapur</td>\n",
       "    </tr>\n",
       "    <tr>\n",
       "      <th>2</th>\n",
       "      <td>Sabin</td>\n",
       "      <td>78</td>\n",
       "      <td>Pokhara</td>\n",
       "    </tr>\n",
       "  </tbody>\n",
       "</table>\n",
       "</div>"
      ],
      "text/plain": [
       "    Name  Age    Address\n",
       "0    Ram   34  Kathmandu\n",
       "1  Shyam   45  Bhaktapur\n",
       "2  Sabin   78    Pokhara"
      ]
     },
     "execution_count": 10,
     "metadata": {},
     "output_type": "execute_result"
    }
   ],
   "source": [
    "import pandas as pd\n",
    "df = pd.read_csv('datas.csv')\n",
    "df"
   ]
  },
  {
   "cell_type": "code",
   "execution_count": null,
   "metadata": {},
   "outputs": [],
   "source": []
  }
 ],
 "metadata": {
  "kernelspec": {
   "display_name": "Python 3 (ipykernel)",
   "language": "python",
   "name": "python3"
  },
  "language_info": {
   "codemirror_mode": {
    "name": "ipython",
    "version": 3
   },
   "file_extension": ".py",
   "mimetype": "text/x-python",
   "name": "python",
   "nbconvert_exporter": "python",
   "pygments_lexer": "ipython3",
   "version": "3.7.1"
  }
 },
 "nbformat": 4,
 "nbformat_minor": 2
}
